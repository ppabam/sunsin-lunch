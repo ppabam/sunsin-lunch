{
 "cells": [
  {
   "cell_type": "code",
   "execution_count": 1,
   "id": "9a9f16b6-2deb-441d-9f78-f78f4f5bc39d",
   "metadata": {},
   "outputs": [],
   "source": [
    "import pandas as pd\n",
    "import requests\n",
    "\n",
    "EP = \"https://raw.githubusercontent.com/ppabam/nextjs-fastapi-starter/refs/heads/main/endpoints.json\""
   ]
  },
  {
   "cell_type": "code",
   "execution_count": 13,
   "id": "1af06981-f5f1-4e3c-9a44-00c49b1ac8b8",
   "metadata": {},
   "outputs": [],
   "source": [
    "# res = requests.get(EP)"
   ]
  },
  {
   "cell_type": "code",
   "execution_count": 12,
   "id": "44763c42-16fa-47ca-9579-abf44ebd3196",
   "metadata": {},
   "outputs": [],
   "source": [
    "# res.status_code"
   ]
  },
  {
   "cell_type": "code",
   "execution_count": 14,
   "id": "ca0cebfb-89cf-4f80-ab4c-7cfac895c3f7",
   "metadata": {},
   "outputs": [],
   "source": [
    "# res.encoding"
   ]
  },
  {
   "cell_type": "code",
   "execution_count": 10,
   "id": "262ea1dc-5592-436c-ac29-48d0125c5a8b",
   "metadata": {},
   "outputs": [],
   "source": [
    "# res.text"
   ]
  },
  {
   "cell_type": "code",
   "execution_count": 15,
   "id": "0c24bcec-cd5d-46e3-ac8b-cd995bf4a334",
   "metadata": {},
   "outputs": [],
   "source": [
    "data = res.json()"
   ]
  },
  {
   "cell_type": "code",
   "execution_count": 16,
   "id": "d331479c-d5a2-4b88-97d0-6846cd03a2d4",
   "metadata": {},
   "outputs": [
    {
     "data": {
      "text/plain": [
       "dict"
      ]
     },
     "execution_count": 16,
     "metadata": {},
     "output_type": "execute_result"
    }
   ],
   "source": [
    "type(data)"
   ]
  },
  {
   "cell_type": "code",
   "execution_count": 19,
   "id": "9805c16c-4615-4d29-85a5-473c38a5ad5e",
   "metadata": {},
   "outputs": [
    {
     "data": {
      "text/plain": [
       "list"
      ]
     },
     "execution_count": 19,
     "metadata": {},
     "output_type": "execute_result"
    }
   ],
   "source": [
    "endpoints = data['endpoints']\n",
    "type(endpoints)"
   ]
  },
  {
   "cell_type": "code",
   "execution_count": 21,
   "id": "3c06052a-70a1-41c7-8baf-d52c5eb3d914",
   "metadata": {},
   "outputs": [
    {
     "name": "stdout",
     "output_type": "stream",
     "text": [
      "TOM, https://ac.sunsin.shop/api/py/select_all\n",
      "jiwon, https://agecal.wodan10.shop/api/py/select_all\n",
      "heejin, https://age.journeyjean.shop/api/py/select_all\n",
      "hyun, https://agecalculator.calcalhan.store/api/py/select_all\n",
      "cho, https://nextjs-fastapi-starter-5j3bemub7-chominkyus-projects.vercel.app/api/py/select_all\n",
      "jacob, https://jacob0503.vercel.app/api/py/select_table\n",
      "nuni, https://ac.nunininu.shop/api/py/select_all\n",
      "lucas, https://ac.lucas12.store/api/py/select_all\n",
      "SEO, https://ac.seo-sigma.shop/api/py/select_all\n",
      "JERRY, https://jooon.vercel.app/api/py/select_all\n"
     ]
    }
   ],
   "source": [
    "for p in endpoints:\n",
    "    print(f'{p[\"name\"]}, {p[\"url\"]}')"
   ]
  },
  {
   "cell_type": "code",
   "execution_count": 29,
   "id": "ac2f2d50-bcaf-48cc-bfd3-6d59aa95ff6d",
   "metadata": {},
   "outputs": [
    {
     "data": {
      "text/html": [
       "<div>\n",
       "<style scoped>\n",
       "    .dataframe tbody tr th:only-of-type {\n",
       "        vertical-align: middle;\n",
       "    }\n",
       "\n",
       "    .dataframe tbody tr th {\n",
       "        vertical-align: top;\n",
       "    }\n",
       "\n",
       "    .dataframe thead th {\n",
       "        text-align: right;\n",
       "    }\n",
       "</style>\n",
       "<table border=\"1\" class=\"dataframe\">\n",
       "  <thead>\n",
       "    <tr style=\"text-align: right;\">\n",
       "      <th></th>\n",
       "      <th>menu_name</th>\n",
       "      <th>name</th>\n",
       "      <th>dt</th>\n",
       "    </tr>\n",
       "  </thead>\n",
       "  <tbody>\n",
       "    <tr>\n",
       "      <th>0</th>\n",
       "      <td>설렁탕</td>\n",
       "      <td>TOM</td>\n",
       "      <td>2025-02-07</td>\n",
       "    </tr>\n",
       "  </tbody>\n",
       "</table>\n",
       "</div>"
      ],
      "text/plain": [
       "  menu_name name          dt\n",
       "0       설렁탕  TOM  2025-02-07"
      ]
     },
     "execution_count": 29,
     "metadata": {},
     "output_type": "execute_result"
    }
   ],
   "source": [
    "# df_tom = \n",
    "# df_jerry = \n",
    "res = requests.get(\"https://ac.sunsin.shop/api/py/select_all\")\n",
    "# res.status_code\n",
    "data = res.json()\n",
    "df_tom = pd.DataFrame(data)\n",
    "df_tom.head(1)"
   ]
  },
  {
   "cell_type": "code",
   "execution_count": 30,
   "id": "1e991af8-1cfd-456e-a5ef-44e8da94f7e9",
   "metadata": {},
   "outputs": [
    {
     "data": {
      "text/html": [
       "<div>\n",
       "<style scoped>\n",
       "    .dataframe tbody tr th:only-of-type {\n",
       "        vertical-align: middle;\n",
       "    }\n",
       "\n",
       "    .dataframe tbody tr th {\n",
       "        vertical-align: top;\n",
       "    }\n",
       "\n",
       "    .dataframe thead th {\n",
       "        text-align: right;\n",
       "    }\n",
       "</style>\n",
       "<table border=\"1\" class=\"dataframe\">\n",
       "  <thead>\n",
       "    <tr style=\"text-align: right;\">\n",
       "      <th></th>\n",
       "      <th>menu_name</th>\n",
       "      <th>name</th>\n",
       "      <th>dt</th>\n",
       "    </tr>\n",
       "  </thead>\n",
       "  <tbody>\n",
       "    <tr>\n",
       "      <th>0</th>\n",
       "      <td>베이컨토마토디럭스세트</td>\n",
       "      <td>JERRY</td>\n",
       "      <td>2025-02-06</td>\n",
       "    </tr>\n",
       "  </tbody>\n",
       "</table>\n",
       "</div>"
      ],
      "text/plain": [
       "     menu_name   name          dt\n",
       "0  베이컨토마토디럭스세트  JERRY  2025-02-06"
      ]
     },
     "execution_count": 30,
     "metadata": {},
     "output_type": "execute_result"
    }
   ],
   "source": [
    "res = requests.get(\"https://jooon.vercel.app/api/py/select_all\")\n",
    "# res.status_code\n",
    "data = res.json()\n",
    "df_jerry = pd.DataFrame(data)\n",
    "df_jerry.head(1)"
   ]
  },
  {
   "cell_type": "code",
   "execution_count": 37,
   "id": "cc2611c3-9637-4cd2-be3f-a2a5e462f394",
   "metadata": {},
   "outputs": [],
   "source": [
    "# 나의 df 에 없는 row 를 찾아서 새로운 df 으로 만들기\n",
    "new_rows = []\n",
    "for _, row_j in df_jerry.iterrows():\n",
    "    is_match_row = True\n",
    "    for _, row_t in df_tom.iterrows():\n",
    "        is_match_columns = True\n",
    "        for c_name in df_tom.columns:\n",
    "            # if .... row_j[c_name] != row_t['c_name']\n",
    "            pass\n",
    "\n",
    "    if not is_match_row:\n",
    "        new_rows.append(row)\n",
    "\n",
    "df_new = pd.DataFrame(new_rows)"
   ]
  },
  {
   "cell_type": "code",
   "execution_count": 60,
   "id": "87f6a6f5-6030-4fca-b14f-870f63a7f2dc",
   "metadata": {},
   "outputs": [],
   "source": [
    "import pandas as pd\n",
    "\n",
    "df1 = pd.DataFrame({\"id\": [1, 2, 3], \"name\": [\"KIM\", \"MIN\", \"LEE\"]})\n",
    "df2 = pd.DataFrame({\"id\": [2, 3, 4, 5], \"name\": [\"MIN\", \"LEE\", \"PARK\", \"TOM\"]})\n",
    "df3 = pd.DataFrame({\"id\": [5, 4, 2, 3], \"name\": [\"TOM\", \"PARK\",\"MIN\", \"LEE\"]})"
   ]
  },
  {
   "cell_type": "code",
   "execution_count": 43,
   "id": "d8ec0605-6e11-4d06-8bdd-18ab461c450b",
   "metadata": {},
   "outputs": [
    {
     "data": {
      "text/html": [
       "<div>\n",
       "<style scoped>\n",
       "    .dataframe tbody tr th:only-of-type {\n",
       "        vertical-align: middle;\n",
       "    }\n",
       "\n",
       "    .dataframe tbody tr th {\n",
       "        vertical-align: top;\n",
       "    }\n",
       "\n",
       "    .dataframe thead th {\n",
       "        text-align: right;\n",
       "    }\n",
       "</style>\n",
       "<table border=\"1\" class=\"dataframe\">\n",
       "  <thead>\n",
       "    <tr style=\"text-align: right;\">\n",
       "      <th></th>\n",
       "      <th>id</th>\n",
       "      <th>name</th>\n",
       "    </tr>\n",
       "  </thead>\n",
       "  <tbody>\n",
       "    <tr>\n",
       "      <th>0</th>\n",
       "      <td>4</td>\n",
       "      <td>PARK</td>\n",
       "    </tr>\n",
       "    <tr>\n",
       "      <th>1</th>\n",
       "      <td>5</td>\n",
       "      <td>TOM</td>\n",
       "    </tr>\n",
       "  </tbody>\n",
       "</table>\n",
       "</div>"
      ],
      "text/plain": [
       "   id  name\n",
       "0   4  PARK\n",
       "1   5   TOM"
      ]
     },
     "execution_count": 43,
     "metadata": {},
     "output_type": "execute_result"
    }
   ],
   "source": [
    "from pandasql import sqldf\n",
    "query = \"\"\"\n",
    "SELECT df2.id, df2.name\n",
    "FROM df2\n",
    "LEFT JOIN df1\n",
    "ON df2.id = df1.id AND df2.name = df1.name\n",
    "WHERE df1.id IS NULL\n",
    "\"\"\"\n",
    "\n",
    "pysqldf = lambda q: sqldf(q, globals())\n",
    "\n",
    "def pysqldf(q):\n",
    "    sqldf(q, locals())\n",
    "\n",
    "df_diff_1 = sqldf(query, locals()) \n",
    "df_diff_1  "
   ]
  },
  {
   "cell_type": "code",
   "execution_count": 44,
   "id": "92727c37-85aa-4dbc-816e-112c5448e2b5",
   "metadata": {},
   "outputs": [
    {
     "data": {
      "text/html": [
       "<div>\n",
       "<style scoped>\n",
       "    .dataframe tbody tr th:only-of-type {\n",
       "        vertical-align: middle;\n",
       "    }\n",
       "\n",
       "    .dataframe tbody tr th {\n",
       "        vertical-align: top;\n",
       "    }\n",
       "\n",
       "    .dataframe thead th {\n",
       "        text-align: right;\n",
       "    }\n",
       "</style>\n",
       "<table border=\"1\" class=\"dataframe\">\n",
       "  <thead>\n",
       "    <tr style=\"text-align: right;\">\n",
       "      <th></th>\n",
       "      <th>id</th>\n",
       "      <th>name</th>\n",
       "    </tr>\n",
       "  </thead>\n",
       "  <tbody>\n",
       "    <tr>\n",
       "      <th>2</th>\n",
       "      <td>4</td>\n",
       "      <td>PARK</td>\n",
       "    </tr>\n",
       "    <tr>\n",
       "      <th>3</th>\n",
       "      <td>5</td>\n",
       "      <td>TOM</td>\n",
       "    </tr>\n",
       "  </tbody>\n",
       "</table>\n",
       "</div>"
      ],
      "text/plain": [
       "   id  name\n",
       "2   4  PARK\n",
       "3   5   TOM"
      ]
     },
     "execution_count": 44,
     "metadata": {},
     "output_type": "execute_result"
    }
   ],
   "source": [
    "new_rows = []\n",
    "\n",
    "for _, row_2 in df2.iterrows():\n",
    "    is_match_row = False\n",
    "    for _, row_1 in df1.iterrows():\n",
    "        is_match_columns = True\n",
    "        for c_name in df1.columns:\n",
    "            if row_2[c_name] != row_1[c_name]:\n",
    "                is_match_columns = False\n",
    "                break\n",
    "                \n",
    "        if is_match_columns:\n",
    "            is_match_row = True\n",
    "\n",
    "    if not is_match_row:\n",
    "        new_rows.append(row_2)\n",
    "        \n",
    "df_diff_2 = pd.DataFrame(new_rows)\n",
    "df_diff_2"
   ]
  },
  {
   "cell_type": "code",
   "execution_count": 45,
   "id": "1c4d3843-a316-4948-aa43-2fdca0f4cd37",
   "metadata": {},
   "outputs": [],
   "source": [
    "merge_df = pd.merge(df1, df3, how=\"right\", indicator=True)"
   ]
  },
  {
   "cell_type": "code",
   "execution_count": 46,
   "id": "a231dee7-bf07-4dbf-9506-62288821d2c7",
   "metadata": {},
   "outputs": [
    {
     "data": {
      "text/html": [
       "<div>\n",
       "<style scoped>\n",
       "    .dataframe tbody tr th:only-of-type {\n",
       "        vertical-align: middle;\n",
       "    }\n",
       "\n",
       "    .dataframe tbody tr th {\n",
       "        vertical-align: top;\n",
       "    }\n",
       "\n",
       "    .dataframe thead th {\n",
       "        text-align: right;\n",
       "    }\n",
       "</style>\n",
       "<table border=\"1\" class=\"dataframe\">\n",
       "  <thead>\n",
       "    <tr style=\"text-align: right;\">\n",
       "      <th></th>\n",
       "      <th>id</th>\n",
       "      <th>name</th>\n",
       "    </tr>\n",
       "  </thead>\n",
       "  <tbody>\n",
       "    <tr>\n",
       "      <th>0</th>\n",
       "      <td>5</td>\n",
       "      <td>TOM</td>\n",
       "    </tr>\n",
       "    <tr>\n",
       "      <th>1</th>\n",
       "      <td>4</td>\n",
       "      <td>PARK</td>\n",
       "    </tr>\n",
       "  </tbody>\n",
       "</table>\n",
       "</div>"
      ],
      "text/plain": [
       "   id  name\n",
       "0   5   TOM\n",
       "1   4  PARK"
      ]
     },
     "execution_count": 46,
     "metadata": {},
     "output_type": "execute_result"
    }
   ],
   "source": [
    "df_diff_3 = merge_df[merge_df['_merge'] == 'right_only'].drop('_merge', axis=1)\n",
    "df_diff_3"
   ]
  },
  {
   "cell_type": "code",
   "execution_count": 49,
   "id": "32b99335-f9cc-47ca-b62b-06c7615527fb",
   "metadata": {},
   "outputs": [
    {
     "data": {
      "text/plain": [
       "True"
      ]
     },
     "execution_count": 49,
     "metadata": {},
     "output_type": "execute_result"
    }
   ],
   "source": [
    "## TODO\n",
    "#df_diff_1, df_diff_2, df_diff_3 의 결과가 같은지 비교\n",
    "df_diff_1.reset_index(drop=True).equals(df_diff_2.reset_index(drop=True))"
   ]
  },
  {
   "cell_type": "code",
   "execution_count": 51,
   "id": "5a9dadfd-74a4-445c-8a57-e830d52acf72",
   "metadata": {},
   "outputs": [
    {
     "data": {
      "text/plain": [
       "False"
      ]
     },
     "execution_count": 51,
     "metadata": {},
     "output_type": "execute_result"
    }
   ],
   "source": [
    "df_diff_1.reset_index(drop=True).equals(df_diff_3.reset_index(drop=True))"
   ]
  },
  {
   "cell_type": "code",
   "execution_count": 55,
   "id": "fed805e4-afd9-4647-8c0f-3da259322f1e",
   "metadata": {},
   "outputs": [
    {
     "data": {
      "text/html": [
       "<div>\n",
       "<style scoped>\n",
       "    .dataframe tbody tr th:only-of-type {\n",
       "        vertical-align: middle;\n",
       "    }\n",
       "\n",
       "    .dataframe tbody tr th {\n",
       "        vertical-align: top;\n",
       "    }\n",
       "\n",
       "    .dataframe thead th {\n",
       "        text-align: right;\n",
       "    }\n",
       "</style>\n",
       "<table border=\"1\" class=\"dataframe\">\n",
       "  <thead>\n",
       "    <tr style=\"text-align: right;\">\n",
       "      <th></th>\n",
       "      <th>id</th>\n",
       "      <th>name</th>\n",
       "    </tr>\n",
       "  </thead>\n",
       "  <tbody>\n",
       "    <tr>\n",
       "      <th>0</th>\n",
       "      <td>4</td>\n",
       "      <td>PARK</td>\n",
       "    </tr>\n",
       "    <tr>\n",
       "      <th>1</th>\n",
       "      <td>5</td>\n",
       "      <td>TOM</td>\n",
       "    </tr>\n",
       "  </tbody>\n",
       "</table>\n",
       "</div>"
      ],
      "text/plain": [
       "   id  name\n",
       "0   4  PARK\n",
       "1   5   TOM"
      ]
     },
     "execution_count": 55,
     "metadata": {},
     "output_type": "execute_result"
    }
   ],
   "source": [
    "df_diff_3.sort_values(by=['id','name']).reset_index(drop=True)"
   ]
  },
  {
   "cell_type": "code",
   "execution_count": 56,
   "id": "b04e9f9c-49d7-4059-9095-7262135fe924",
   "metadata": {},
   "outputs": [
    {
     "data": {
      "text/html": [
       "<div>\n",
       "<style scoped>\n",
       "    .dataframe tbody tr th:only-of-type {\n",
       "        vertical-align: middle;\n",
       "    }\n",
       "\n",
       "    .dataframe tbody tr th {\n",
       "        vertical-align: top;\n",
       "    }\n",
       "\n",
       "    .dataframe thead th {\n",
       "        text-align: right;\n",
       "    }\n",
       "</style>\n",
       "<table border=\"1\" class=\"dataframe\">\n",
       "  <thead>\n",
       "    <tr style=\"text-align: right;\">\n",
       "      <th></th>\n",
       "      <th>id</th>\n",
       "      <th>name</th>\n",
       "    </tr>\n",
       "  </thead>\n",
       "  <tbody>\n",
       "    <tr>\n",
       "      <th>0</th>\n",
       "      <td>4</td>\n",
       "      <td>PARK</td>\n",
       "    </tr>\n",
       "    <tr>\n",
       "      <th>1</th>\n",
       "      <td>5</td>\n",
       "      <td>TOM</td>\n",
       "    </tr>\n",
       "  </tbody>\n",
       "</table>\n",
       "</div>"
      ],
      "text/plain": [
       "   id  name\n",
       "0   4  PARK\n",
       "1   5   TOM"
      ]
     },
     "execution_count": 56,
     "metadata": {},
     "output_type": "execute_result"
    }
   ],
   "source": [
    "df_diff_1.sort_values(by=['id','name']).reset_index(drop=True)"
   ]
  },
  {
   "cell_type": "code",
   "execution_count": 59,
   "id": "42d6e1fb-d9d0-4a72-bd1e-939247e8b2de",
   "metadata": {},
   "outputs": [
    {
     "data": {
      "text/plain": [
       "['id', 'name']"
      ]
     },
     "execution_count": 59,
     "metadata": {},
     "output_type": "execute_result"
    }
   ],
   "source": [
    "df_diff_3.columns.tolist()"
   ]
  },
  {
   "cell_type": "code",
   "execution_count": 57,
   "id": "759cb546-7697-4ecc-a57a-a8b258fc5c38",
   "metadata": {},
   "outputs": [
    {
     "data": {
      "text/plain": [
       "True"
      ]
     },
     "execution_count": 57,
     "metadata": {},
     "output_type": "execute_result"
    }
   ],
   "source": [
    "d3 = df_diff_3.sort_values(by=['id','name']).reset_index(drop=True)\n",
    "d1 = df_diff_1.sort_values(by=['id','name']).reset_index(drop=True)\n",
    "d3.equals(d1)"
   ]
  },
  {
   "cell_type": "code",
   "execution_count": null,
   "id": "9414053d-d8c8-402c-9da7-e3684b421ea3",
   "metadata": {},
   "outputs": [],
   "source": []
  }
 ],
 "metadata": {
  "kernelspec": {
   "display_name": "Python 3 (ipykernel)",
   "language": "python",
   "name": "python3"
  },
  "language_info": {
   "codemirror_mode": {
    "name": "ipython",
    "version": 3
   },
   "file_extension": ".py",
   "mimetype": "text/x-python",
   "name": "python",
   "nbconvert_exporter": "python",
   "pygments_lexer": "ipython3",
   "version": "3.10.12"
  }
 },
 "nbformat": 4,
 "nbformat_minor": 5
}
