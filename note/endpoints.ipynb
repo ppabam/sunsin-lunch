{
 "cells": [
  {
   "cell_type": "code",
   "execution_count": 65,
   "id": "9a9f16b6-2deb-441d-9f78-f78f4f5bc39d",
   "metadata": {},
   "outputs": [],
   "source": [
    "import pandas as pd\n",
    "import requests\n",
    "\n",
    "EP = \"https://raw.githubusercontent.com/ppabam/nextjs-fastapi-starter/refs/heads/main/endpoints.json\""
   ]
  },
  {
   "cell_type": "code",
   "execution_count": 66,
   "id": "1af06981-f5f1-4e3c-9a44-00c49b1ac8b8",
   "metadata": {},
   "outputs": [],
   "source": [
    "res = requests.get(EP)"
   ]
  },
  {
   "cell_type": "code",
   "execution_count": 12,
   "id": "44763c42-16fa-47ca-9579-abf44ebd3196",
   "metadata": {},
   "outputs": [],
   "source": [
    "# res.status_code"
   ]
  },
  {
   "cell_type": "code",
   "execution_count": 14,
   "id": "ca0cebfb-89cf-4f80-ab4c-7cfac895c3f7",
   "metadata": {},
   "outputs": [],
   "source": [
    "# res.encoding"
   ]
  },
  {
   "cell_type": "code",
   "execution_count": 10,
   "id": "262ea1dc-5592-436c-ac29-48d0125c5a8b",
   "metadata": {},
   "outputs": [],
   "source": [
    "# res.text"
   ]
  },
  {
   "cell_type": "code",
   "execution_count": 67,
   "id": "0c24bcec-cd5d-46e3-ac8b-cd995bf4a334",
   "metadata": {},
   "outputs": [],
   "source": [
    "data = res.json()"
   ]
  },
  {
   "cell_type": "code",
   "execution_count": 68,
   "id": "d331479c-d5a2-4b88-97d0-6846cd03a2d4",
   "metadata": {},
   "outputs": [
    {
     "data": {
      "text/plain": [
       "dict"
      ]
     },
     "execution_count": 68,
     "metadata": {},
     "output_type": "execute_result"
    }
   ],
   "source": [
    "type(data)"
   ]
  },
  {
   "cell_type": "code",
   "execution_count": 70,
   "id": "9805c16c-4615-4d29-85a5-473c38a5ad5e",
   "metadata": {},
   "outputs": [
    {
     "data": {
      "text/plain": [
       "list"
      ]
     },
     "execution_count": 70,
     "metadata": {},
     "output_type": "execute_result"
    }
   ],
   "source": [
    "endpoints = data['endpoints']\n",
    "type(endpoints)"
   ]
  },
  {
   "cell_type": "code",
   "execution_count": 71,
   "id": "3c06052a-70a1-41c7-8baf-d52c5eb3d914",
   "metadata": {},
   "outputs": [
    {
     "name": "stdout",
     "output_type": "stream",
     "text": [
      "TOM, https://ac.sunsin.shop/api/py/select_all\n",
      "jiwon, https://agecal.wodan10.shop/api/py/select_all\n",
      "heejin, https://age.journeyjean.shop/api/py/select_all\n",
      "hyun, https://agecalculator.calcalhan.store/api/py/select_all\n",
      "cho, https://nextjs-fastapi-starter-5j3bemub7-chominkyus-projects.vercel.app/api/py/select_all\n",
      "jacob, https://jacob0503.vercel.app/api/py/select_table\n",
      "nuni, https://ac.nunininu.shop/api/py/select_all\n",
      "lucas, https://ac.lucas12.store/api/py/select_all\n",
      "SEO, https://ac.seo-sigma.shop/api/py/select_all\n",
      "JERRY, https://jooon.vercel.app/api/py/select_all\n"
     ]
    }
   ],
   "source": [
    "for p in endpoints:\n",
    "    print(f'{p[\"name\"]}, {p[\"url\"]}')"
   ]
  },
  {
   "cell_type": "code",
   "execution_count": 72,
   "id": "ac2f2d50-bcaf-48cc-bfd3-6d59aa95ff6d",
   "metadata": {},
   "outputs": [
    {
     "data": {
      "text/html": [
       "<div>\n",
       "<style scoped>\n",
       "    .dataframe tbody tr th:only-of-type {\n",
       "        vertical-align: middle;\n",
       "    }\n",
       "\n",
       "    .dataframe tbody tr th {\n",
       "        vertical-align: top;\n",
       "    }\n",
       "\n",
       "    .dataframe thead th {\n",
       "        text-align: right;\n",
       "    }\n",
       "</style>\n",
       "<table border=\"1\" class=\"dataframe\">\n",
       "  <thead>\n",
       "    <tr style=\"text-align: right;\">\n",
       "      <th></th>\n",
       "      <th>menu_name</th>\n",
       "      <th>name</th>\n",
       "      <th>dt</th>\n",
       "    </tr>\n",
       "  </thead>\n",
       "  <tbody>\n",
       "    <tr>\n",
       "      <th>0</th>\n",
       "      <td>설렁탕</td>\n",
       "      <td>TOM</td>\n",
       "      <td>2025-02-07</td>\n",
       "    </tr>\n",
       "  </tbody>\n",
       "</table>\n",
       "</div>"
      ],
      "text/plain": [
       "  menu_name name          dt\n",
       "0       설렁탕  TOM  2025-02-07"
      ]
     },
     "execution_count": 72,
     "metadata": {},
     "output_type": "execute_result"
    }
   ],
   "source": [
    "# df_tom = \n",
    "# df_jerry = \n",
    "res = requests.get(\"https://ac.sunsin.shop/api/py/select_all\")\n",
    "# res.status_code\n",
    "data = res.json()\n",
    "df_tom = pd.DataFrame(data)\n",
    "df_tom.head(1)"
   ]
  },
  {
   "cell_type": "code",
   "execution_count": 73,
   "id": "1e991af8-1cfd-456e-a5ef-44e8da94f7e9",
   "metadata": {},
   "outputs": [
    {
     "data": {
      "text/html": [
       "<div>\n",
       "<style scoped>\n",
       "    .dataframe tbody tr th:only-of-type {\n",
       "        vertical-align: middle;\n",
       "    }\n",
       "\n",
       "    .dataframe tbody tr th {\n",
       "        vertical-align: top;\n",
       "    }\n",
       "\n",
       "    .dataframe thead th {\n",
       "        text-align: right;\n",
       "    }\n",
       "</style>\n",
       "<table border=\"1\" class=\"dataframe\">\n",
       "  <thead>\n",
       "    <tr style=\"text-align: right;\">\n",
       "      <th></th>\n",
       "      <th>menu_name</th>\n",
       "      <th>name</th>\n",
       "      <th>dt</th>\n",
       "    </tr>\n",
       "  </thead>\n",
       "  <tbody>\n",
       "    <tr>\n",
       "      <th>0</th>\n",
       "      <td>베이컨토마토디럭스세트</td>\n",
       "      <td>JERRY</td>\n",
       "      <td>2025-02-06</td>\n",
       "    </tr>\n",
       "  </tbody>\n",
       "</table>\n",
       "</div>"
      ],
      "text/plain": [
       "     menu_name   name          dt\n",
       "0  베이컨토마토디럭스세트  JERRY  2025-02-06"
      ]
     },
     "execution_count": 73,
     "metadata": {},
     "output_type": "execute_result"
    }
   ],
   "source": [
    "res = requests.get(\"https://jooon.vercel.app/api/py/select_all\")\n",
    "# res.status_code\n",
    "data = res.json()\n",
    "df_jerry = pd.DataFrame(data)\n",
    "df_jerry.head(1)"
   ]
  },
  {
   "cell_type": "code",
   "execution_count": 60,
   "id": "87f6a6f5-6030-4fca-b14f-870f63a7f2dc",
   "metadata": {},
   "outputs": [],
   "source": [
    "import pandas as pd\n",
    "\n",
    "df1 = pd.DataFrame({\"id\": [1, 2, 3], \"name\": [\"KIM\", \"MIN\", \"LEE\"]})\n",
    "df2 = pd.DataFrame({\"id\": [2, 3, 4, 5], \"name\": [\"MIN\", \"LEE\", \"PARK\", \"TOM\"]})\n",
    "df3 = pd.DataFrame({\"id\": [5, 4, 2, 3], \"name\": [\"TOM\", \"PARK\",\"MIN\", \"LEE\"]})"
   ]
  },
  {
   "cell_type": "code",
   "execution_count": 78,
   "id": "d8ec0605-6e11-4d06-8bdd-18ab461c450b",
   "metadata": {},
   "outputs": [
    {
     "data": {
      "text/html": [
       "<div>\n",
       "<style scoped>\n",
       "    .dataframe tbody tr th:only-of-type {\n",
       "        vertical-align: middle;\n",
       "    }\n",
       "\n",
       "    .dataframe tbody tr th {\n",
       "        vertical-align: top;\n",
       "    }\n",
       "\n",
       "    .dataframe thead th {\n",
       "        text-align: right;\n",
       "    }\n",
       "</style>\n",
       "<table border=\"1\" class=\"dataframe\">\n",
       "  <thead>\n",
       "    <tr style=\"text-align: right;\">\n",
       "      <th></th>\n",
       "      <th>menu_name</th>\n",
       "      <th>name</th>\n",
       "      <th>dt</th>\n",
       "    </tr>\n",
       "  </thead>\n",
       "  <tbody>\n",
       "    <tr>\n",
       "      <th>0</th>\n",
       "      <td>베이컨토마토디럭스세트</td>\n",
       "      <td>JERRY</td>\n",
       "      <td>2025-02-06</td>\n",
       "    </tr>\n",
       "    <tr>\n",
       "      <th>1</th>\n",
       "      <td>순대국</td>\n",
       "      <td>TOM</td>\n",
       "      <td>2025-01-07</td>\n",
       "    </tr>\n",
       "    <tr>\n",
       "      <th>2</th>\n",
       "      <td>닭개장</td>\n",
       "      <td>CHO</td>\n",
       "      <td>2025-01-07</td>\n",
       "    </tr>\n",
       "    <tr>\n",
       "      <th>3</th>\n",
       "      <td>닭개장(특) , 꽈배기</td>\n",
       "      <td>HYUN</td>\n",
       "      <td>2025-01-07</td>\n",
       "    </tr>\n",
       "    <tr>\n",
       "      <th>4</th>\n",
       "      <td>닭개장</td>\n",
       "      <td>JERRY</td>\n",
       "      <td>2025-01-07</td>\n",
       "    </tr>\n",
       "    <tr>\n",
       "      <th>...</th>\n",
       "      <td>...</td>\n",
       "      <td>...</td>\n",
       "      <td>...</td>\n",
       "    </tr>\n",
       "    <tr>\n",
       "      <th>140</th>\n",
       "      <td>김치 찌개</td>\n",
       "      <td>JACOB</td>\n",
       "      <td>2025-02-03</td>\n",
       "    </tr>\n",
       "    <tr>\n",
       "      <th>141</th>\n",
       "      <td>샌드위치</td>\n",
       "      <td>HEEJIN</td>\n",
       "      <td>2025-02-03</td>\n",
       "    </tr>\n",
       "    <tr>\n",
       "      <th>142</th>\n",
       "      <td>제육볶음</td>\n",
       "      <td>LUCAS</td>\n",
       "      <td>2025-02-03</td>\n",
       "    </tr>\n",
       "    <tr>\n",
       "      <th>143</th>\n",
       "      <td>제육볶음</td>\n",
       "      <td>NUNI</td>\n",
       "      <td>2025-02-03</td>\n",
       "    </tr>\n",
       "    <tr>\n",
       "      <th>144</th>\n",
       "      <td>라면</td>\n",
       "      <td>JERRY</td>\n",
       "      <td>2025-02-09</td>\n",
       "    </tr>\n",
       "  </tbody>\n",
       "</table>\n",
       "<p>145 rows × 3 columns</p>\n",
       "</div>"
      ],
      "text/plain": [
       "        menu_name    name          dt\n",
       "0     베이컨토마토디럭스세트   JERRY  2025-02-06\n",
       "1             순대국     TOM  2025-01-07\n",
       "2             닭개장     CHO  2025-01-07\n",
       "3    닭개장(특) , 꽈배기    HYUN  2025-01-07\n",
       "4             닭개장   JERRY  2025-01-07\n",
       "..            ...     ...         ...\n",
       "140         김치 찌개   JACOB  2025-02-03\n",
       "141          샌드위치  HEEJIN  2025-02-03\n",
       "142          제육볶음   LUCAS  2025-02-03\n",
       "143          제육볶음    NUNI  2025-02-03\n",
       "144            라면   JERRY  2025-02-09\n",
       "\n",
       "[145 rows x 3 columns]"
      ]
     },
     "execution_count": 78,
     "metadata": {},
     "output_type": "execute_result"
    }
   ],
   "source": [
    "from pandasql import sqldf\n",
    "query = \"\"\"\n",
    "SELECT df_jerry.menu_name, df_jerry.name, df_jerry.dt\n",
    "FROM df_jerry\n",
    "LEFT JOIN df_tom\n",
    "ON df_jerry.menu_name = df_tom.menu_name AND df_jerry.name = df_tom.name\n",
    "AND df_jerry.dt = df_tom.dt\n",
    "WHERE df_tom.menu_name IS NULL\n",
    "\"\"\"\n",
    "\n",
    "#pysqldf = lambda q: sqldf(q, globals())\n",
    "\n",
    "def pysqldf(q):\n",
    "    sqldf(q, locals())\n",
    "\n",
    "df_diff_1 = sqldf(query, locals()) \n",
    "df_diff_1  "
   ]
  },
  {
   "cell_type": "code",
   "execution_count": 64,
   "id": "b152ef8e-83ed-4794-92d3-db88f3bd5bda",
   "metadata": {},
   "outputs": [
    {
     "name": "stdout",
     "output_type": "stream",
     "text": [
      "   id name\n",
      "0   1  KIM\n",
      "1   2  MIN\n",
      "2   3  LEE\n"
     ]
    }
   ],
   "source": [
    "a = globals()['df1']\n"
   ]
  },
  {
   "cell_type": "code",
   "execution_count": 86,
   "id": "92727c37-85aa-4dbc-816e-112c5448e2b5",
   "metadata": {},
   "outputs": [
    {
     "data": {
      "text/html": [
       "<div>\n",
       "<style scoped>\n",
       "    .dataframe tbody tr th:only-of-type {\n",
       "        vertical-align: middle;\n",
       "    }\n",
       "\n",
       "    .dataframe tbody tr th {\n",
       "        vertical-align: top;\n",
       "    }\n",
       "\n",
       "    .dataframe thead th {\n",
       "        text-align: right;\n",
       "    }\n",
       "</style>\n",
       "<table border=\"1\" class=\"dataframe\">\n",
       "  <thead>\n",
       "    <tr style=\"text-align: right;\">\n",
       "      <th></th>\n",
       "      <th>menu_name</th>\n",
       "      <th>name</th>\n",
       "      <th>dt</th>\n",
       "    </tr>\n",
       "  </thead>\n",
       "  <tbody>\n",
       "    <tr>\n",
       "      <th>0</th>\n",
       "      <td>베이컨토마토디럭스세트</td>\n",
       "      <td>JERRY</td>\n",
       "      <td>2025-02-06</td>\n",
       "    </tr>\n",
       "    <tr>\n",
       "      <th>1</th>\n",
       "      <td>순대국</td>\n",
       "      <td>TOM</td>\n",
       "      <td>2025-01-07</td>\n",
       "    </tr>\n",
       "    <tr>\n",
       "      <th>2</th>\n",
       "      <td>닭개장</td>\n",
       "      <td>CHO</td>\n",
       "      <td>2025-01-07</td>\n",
       "    </tr>\n",
       "    <tr>\n",
       "      <th>3</th>\n",
       "      <td>닭개장(특) , 꽈배기</td>\n",
       "      <td>HYUN</td>\n",
       "      <td>2025-01-07</td>\n",
       "    </tr>\n",
       "    <tr>\n",
       "      <th>4</th>\n",
       "      <td>닭개장</td>\n",
       "      <td>JERRY</td>\n",
       "      <td>2025-01-07</td>\n",
       "    </tr>\n",
       "    <tr>\n",
       "      <th>...</th>\n",
       "      <td>...</td>\n",
       "      <td>...</td>\n",
       "      <td>...</td>\n",
       "    </tr>\n",
       "    <tr>\n",
       "      <th>140</th>\n",
       "      <td>김치 찌개</td>\n",
       "      <td>JACOB</td>\n",
       "      <td>2025-02-03</td>\n",
       "    </tr>\n",
       "    <tr>\n",
       "      <th>141</th>\n",
       "      <td>샌드위치</td>\n",
       "      <td>HEEJIN</td>\n",
       "      <td>2025-02-03</td>\n",
       "    </tr>\n",
       "    <tr>\n",
       "      <th>142</th>\n",
       "      <td>제육볶음</td>\n",
       "      <td>LUCAS</td>\n",
       "      <td>2025-02-03</td>\n",
       "    </tr>\n",
       "    <tr>\n",
       "      <th>143</th>\n",
       "      <td>제육볶음</td>\n",
       "      <td>NUNI</td>\n",
       "      <td>2025-02-03</td>\n",
       "    </tr>\n",
       "    <tr>\n",
       "      <th>144</th>\n",
       "      <td>라면</td>\n",
       "      <td>JERRY</td>\n",
       "      <td>2025-02-09</td>\n",
       "    </tr>\n",
       "  </tbody>\n",
       "</table>\n",
       "<p>145 rows × 3 columns</p>\n",
       "</div>"
      ],
      "text/plain": [
       "        menu_name    name          dt\n",
       "0     베이컨토마토디럭스세트   JERRY  2025-02-06\n",
       "1             순대국     TOM  2025-01-07\n",
       "2             닭개장     CHO  2025-01-07\n",
       "3    닭개장(특) , 꽈배기    HYUN  2025-01-07\n",
       "4             닭개장   JERRY  2025-01-07\n",
       "..            ...     ...         ...\n",
       "140         김치 찌개   JACOB  2025-02-03\n",
       "141          샌드위치  HEEJIN  2025-02-03\n",
       "142          제육볶음   LUCAS  2025-02-03\n",
       "143          제육볶음    NUNI  2025-02-03\n",
       "144            라면   JERRY  2025-02-09\n",
       "\n",
       "[145 rows x 3 columns]"
      ]
     },
     "execution_count": 86,
     "metadata": {},
     "output_type": "execute_result"
    }
   ],
   "source": [
    "new_rows = []\n",
    "\n",
    "for _, row_2 in df_jerry.iterrows():\n",
    "    is_match_row = False\n",
    "    for _, row_1 in df_tom.iterrows():\n",
    "        is_match_columns = True\n",
    "        for c_name in df_jerry.columns:\n",
    "            if row_2[c_name] != row_1[c_name]:\n",
    "                is_match_columns = False\n",
    "                break\n",
    "                \n",
    "        if is_match_columns:\n",
    "            is_match_row = True\n",
    "\n",
    "    if not is_match_row:\n",
    "        new_rows.append(row_2)\n",
    "        \n",
    "df_diff_2 = pd.DataFrame(new_rows)\n",
    "df_diff_2"
   ]
  },
  {
   "cell_type": "code",
   "execution_count": 45,
   "id": "1c4d3843-a316-4948-aa43-2fdca0f4cd37",
   "metadata": {},
   "outputs": [],
   "source": [
    "merge_df = pd.merge(df1, df3, how=\"right\", indicator=True)"
   ]
  },
  {
   "cell_type": "code",
   "execution_count": 46,
   "id": "a231dee7-bf07-4dbf-9506-62288821d2c7",
   "metadata": {},
   "outputs": [
    {
     "data": {
      "text/html": [
       "<div>\n",
       "<style scoped>\n",
       "    .dataframe tbody tr th:only-of-type {\n",
       "        vertical-align: middle;\n",
       "    }\n",
       "\n",
       "    .dataframe tbody tr th {\n",
       "        vertical-align: top;\n",
       "    }\n",
       "\n",
       "    .dataframe thead th {\n",
       "        text-align: right;\n",
       "    }\n",
       "</style>\n",
       "<table border=\"1\" class=\"dataframe\">\n",
       "  <thead>\n",
       "    <tr style=\"text-align: right;\">\n",
       "      <th></th>\n",
       "      <th>id</th>\n",
       "      <th>name</th>\n",
       "    </tr>\n",
       "  </thead>\n",
       "  <tbody>\n",
       "    <tr>\n",
       "      <th>0</th>\n",
       "      <td>5</td>\n",
       "      <td>TOM</td>\n",
       "    </tr>\n",
       "    <tr>\n",
       "      <th>1</th>\n",
       "      <td>4</td>\n",
       "      <td>PARK</td>\n",
       "    </tr>\n",
       "  </tbody>\n",
       "</table>\n",
       "</div>"
      ],
      "text/plain": [
       "   id  name\n",
       "0   5   TOM\n",
       "1   4  PARK"
      ]
     },
     "execution_count": 46,
     "metadata": {},
     "output_type": "execute_result"
    }
   ],
   "source": [
    "df_diff_3 = merge_df[merge_df['_merge'] == 'right_only'].drop('_merge', axis=1)\n",
    "df_diff_3"
   ]
  },
  {
   "cell_type": "code",
   "execution_count": 49,
   "id": "32b99335-f9cc-47ca-b62b-06c7615527fb",
   "metadata": {},
   "outputs": [
    {
     "data": {
      "text/plain": [
       "True"
      ]
     },
     "execution_count": 49,
     "metadata": {},
     "output_type": "execute_result"
    }
   ],
   "source": [
    "## TODO\n",
    "#df_diff_1, df_diff_2, df_diff_3 의 결과가 같은지 비교\n",
    "df_diff_1.reset_index(drop=True).equals(df_diff_2.reset_index(drop=True))"
   ]
  },
  {
   "cell_type": "code",
   "execution_count": 51,
   "id": "5a9dadfd-74a4-445c-8a57-e830d52acf72",
   "metadata": {},
   "outputs": [
    {
     "data": {
      "text/plain": [
       "False"
      ]
     },
     "execution_count": 51,
     "metadata": {},
     "output_type": "execute_result"
    }
   ],
   "source": [
    "df_diff_1.reset_index(drop=True).equals(df_diff_3.reset_index(drop=True))"
   ]
  },
  {
   "cell_type": "code",
   "execution_count": 55,
   "id": "fed805e4-afd9-4647-8c0f-3da259322f1e",
   "metadata": {},
   "outputs": [
    {
     "data": {
      "text/html": [
       "<div>\n",
       "<style scoped>\n",
       "    .dataframe tbody tr th:only-of-type {\n",
       "        vertical-align: middle;\n",
       "    }\n",
       "\n",
       "    .dataframe tbody tr th {\n",
       "        vertical-align: top;\n",
       "    }\n",
       "\n",
       "    .dataframe thead th {\n",
       "        text-align: right;\n",
       "    }\n",
       "</style>\n",
       "<table border=\"1\" class=\"dataframe\">\n",
       "  <thead>\n",
       "    <tr style=\"text-align: right;\">\n",
       "      <th></th>\n",
       "      <th>id</th>\n",
       "      <th>name</th>\n",
       "    </tr>\n",
       "  </thead>\n",
       "  <tbody>\n",
       "    <tr>\n",
       "      <th>0</th>\n",
       "      <td>4</td>\n",
       "      <td>PARK</td>\n",
       "    </tr>\n",
       "    <tr>\n",
       "      <th>1</th>\n",
       "      <td>5</td>\n",
       "      <td>TOM</td>\n",
       "    </tr>\n",
       "  </tbody>\n",
       "</table>\n",
       "</div>"
      ],
      "text/plain": [
       "   id  name\n",
       "0   4  PARK\n",
       "1   5   TOM"
      ]
     },
     "execution_count": 55,
     "metadata": {},
     "output_type": "execute_result"
    }
   ],
   "source": [
    "df_diff_3.sort_values(by=['id','name']).reset_index(drop=True)"
   ]
  },
  {
   "cell_type": "code",
   "execution_count": 56,
   "id": "b04e9f9c-49d7-4059-9095-7262135fe924",
   "metadata": {},
   "outputs": [
    {
     "data": {
      "text/html": [
       "<div>\n",
       "<style scoped>\n",
       "    .dataframe tbody tr th:only-of-type {\n",
       "        vertical-align: middle;\n",
       "    }\n",
       "\n",
       "    .dataframe tbody tr th {\n",
       "        vertical-align: top;\n",
       "    }\n",
       "\n",
       "    .dataframe thead th {\n",
       "        text-align: right;\n",
       "    }\n",
       "</style>\n",
       "<table border=\"1\" class=\"dataframe\">\n",
       "  <thead>\n",
       "    <tr style=\"text-align: right;\">\n",
       "      <th></th>\n",
       "      <th>id</th>\n",
       "      <th>name</th>\n",
       "    </tr>\n",
       "  </thead>\n",
       "  <tbody>\n",
       "    <tr>\n",
       "      <th>0</th>\n",
       "      <td>4</td>\n",
       "      <td>PARK</td>\n",
       "    </tr>\n",
       "    <tr>\n",
       "      <th>1</th>\n",
       "      <td>5</td>\n",
       "      <td>TOM</td>\n",
       "    </tr>\n",
       "  </tbody>\n",
       "</table>\n",
       "</div>"
      ],
      "text/plain": [
       "   id  name\n",
       "0   4  PARK\n",
       "1   5   TOM"
      ]
     },
     "execution_count": 56,
     "metadata": {},
     "output_type": "execute_result"
    }
   ],
   "source": [
    "df_diff_1.sort_values(by=['id','name']).reset_index(drop=True)"
   ]
  },
  {
   "cell_type": "code",
   "execution_count": 59,
   "id": "42d6e1fb-d9d0-4a72-bd1e-939247e8b2de",
   "metadata": {},
   "outputs": [
    {
     "data": {
      "text/plain": [
       "['id', 'name']"
      ]
     },
     "execution_count": 59,
     "metadata": {},
     "output_type": "execute_result"
    }
   ],
   "source": [
    "df_diff_3.columns.tolist()"
   ]
  },
  {
   "cell_type": "code",
   "execution_count": 90,
   "id": "759cb546-7697-4ecc-a57a-a8b258fc5c38",
   "metadata": {},
   "outputs": [
    {
     "data": {
      "text/plain": [
       "True"
      ]
     },
     "execution_count": 90,
     "metadata": {},
     "output_type": "execute_result"
    }
   ],
   "source": [
    "d3 = df_diff_2.sort_values(by=df_diff_2.columns.tolist()).reset_index(drop=True)\n",
    "d1 = df_diff_1.sort_values(by=df_diff_1.columns.tolist()).reset_index(drop=True)\n",
    "d3.equals(d1)"
   ]
  },
  {
   "cell_type": "code",
   "execution_count": 91,
   "id": "9414053d-d8c8-402c-9da7-e3684b421ea3",
   "metadata": {},
   "outputs": [
    {
     "data": {
      "text/html": [
       "<div>\n",
       "<style scoped>\n",
       "    .dataframe tbody tr th:only-of-type {\n",
       "        vertical-align: middle;\n",
       "    }\n",
       "\n",
       "    .dataframe tbody tr th {\n",
       "        vertical-align: top;\n",
       "    }\n",
       "\n",
       "    .dataframe thead th {\n",
       "        text-align: right;\n",
       "    }\n",
       "</style>\n",
       "<table border=\"1\" class=\"dataframe\">\n",
       "  <thead>\n",
       "    <tr style=\"text-align: right;\">\n",
       "      <th></th>\n",
       "      <th>menu_name</th>\n",
       "      <th>name</th>\n",
       "      <th>dt</th>\n",
       "    </tr>\n",
       "  </thead>\n",
       "  <tbody>\n",
       "    <tr>\n",
       "      <th>0</th>\n",
       "      <td>FORRK 카레</td>\n",
       "      <td>HYUN</td>\n",
       "      <td>2025-01-20</td>\n",
       "    </tr>\n",
       "    <tr>\n",
       "      <th>1</th>\n",
       "      <td>간짜장</td>\n",
       "      <td>CHO</td>\n",
       "      <td>2025-01-16</td>\n",
       "    </tr>\n",
       "    <tr>\n",
       "      <th>2</th>\n",
       "      <td>간짜장 곱빼기</td>\n",
       "      <td>HYUN</td>\n",
       "      <td>2025-01-16</td>\n",
       "    </tr>\n",
       "    <tr>\n",
       "      <th>3</th>\n",
       "      <td>고기김치찌개,라면세트</td>\n",
       "      <td>NUNI</td>\n",
       "      <td>2025-01-13</td>\n",
       "    </tr>\n",
       "    <tr>\n",
       "      <th>4</th>\n",
       "      <td>고등어구이,제육볶음</td>\n",
       "      <td>HYUN</td>\n",
       "      <td>2025-01-21</td>\n",
       "    </tr>\n",
       "    <tr>\n",
       "      <th>...</th>\n",
       "      <td>...</td>\n",
       "      <td>...</td>\n",
       "      <td>...</td>\n",
       "    </tr>\n",
       "    <tr>\n",
       "      <th>140</th>\n",
       "      <td>한솥</td>\n",
       "      <td>NUNI</td>\n",
       "      <td>2025-01-14</td>\n",
       "    </tr>\n",
       "    <tr>\n",
       "      <th>141</th>\n",
       "      <td>한우 곰탕</td>\n",
       "      <td>LUCAS</td>\n",
       "      <td>2025-01-09</td>\n",
       "    </tr>\n",
       "    <tr>\n",
       "      <th>142</th>\n",
       "      <td>함바그 카레</td>\n",
       "      <td>JERRY</td>\n",
       "      <td>2025-01-20</td>\n",
       "    </tr>\n",
       "    <tr>\n",
       "      <th>143</th>\n",
       "      <td>햄 김치찌개</td>\n",
       "      <td>JACOB</td>\n",
       "      <td>2025-01-15</td>\n",
       "    </tr>\n",
       "    <tr>\n",
       "      <th>144</th>\n",
       "      <td>햄 김치찌개</td>\n",
       "      <td>LUCAS</td>\n",
       "      <td>2025-01-22</td>\n",
       "    </tr>\n",
       "  </tbody>\n",
       "</table>\n",
       "<p>145 rows × 3 columns</p>\n",
       "</div>"
      ],
      "text/plain": [
       "       menu_name   name          dt\n",
       "0       FORRK 카레   HYUN  2025-01-20\n",
       "1            간짜장    CHO  2025-01-16\n",
       "2        간짜장 곱빼기   HYUN  2025-01-16\n",
       "3    고기김치찌개,라면세트   NUNI  2025-01-13\n",
       "4     고등어구이,제육볶음   HYUN  2025-01-21\n",
       "..           ...    ...         ...\n",
       "140           한솥   NUNI  2025-01-14\n",
       "141        한우 곰탕  LUCAS  2025-01-09\n",
       "142       함바그 카레  JERRY  2025-01-20\n",
       "143       햄 김치찌개  JACOB  2025-01-15\n",
       "144       햄 김치찌개  LUCAS  2025-01-22\n",
       "\n",
       "[145 rows x 3 columns]"
      ]
     },
     "execution_count": 91,
     "metadata": {},
     "output_type": "execute_result"
    }
   ],
   "source": [
    "d3"
   ]
  },
  {
   "cell_type": "code",
   "execution_count": 92,
   "id": "c7f9ce28-5267-414c-b62d-d5de1d0b3a78",
   "metadata": {},
   "outputs": [
    {
     "data": {
      "text/html": [
       "<div>\n",
       "<style scoped>\n",
       "    .dataframe tbody tr th:only-of-type {\n",
       "        vertical-align: middle;\n",
       "    }\n",
       "\n",
       "    .dataframe tbody tr th {\n",
       "        vertical-align: top;\n",
       "    }\n",
       "\n",
       "    .dataframe thead th {\n",
       "        text-align: right;\n",
       "    }\n",
       "</style>\n",
       "<table border=\"1\" class=\"dataframe\">\n",
       "  <thead>\n",
       "    <tr style=\"text-align: right;\">\n",
       "      <th></th>\n",
       "      <th>menu_name</th>\n",
       "      <th>name</th>\n",
       "      <th>dt</th>\n",
       "    </tr>\n",
       "  </thead>\n",
       "  <tbody>\n",
       "    <tr>\n",
       "      <th>0</th>\n",
       "      <td>FORRK 카레</td>\n",
       "      <td>HYUN</td>\n",
       "      <td>2025-01-20</td>\n",
       "    </tr>\n",
       "    <tr>\n",
       "      <th>1</th>\n",
       "      <td>간짜장</td>\n",
       "      <td>CHO</td>\n",
       "      <td>2025-01-16</td>\n",
       "    </tr>\n",
       "    <tr>\n",
       "      <th>2</th>\n",
       "      <td>간짜장 곱빼기</td>\n",
       "      <td>HYUN</td>\n",
       "      <td>2025-01-16</td>\n",
       "    </tr>\n",
       "    <tr>\n",
       "      <th>3</th>\n",
       "      <td>고기김치찌개,라면세트</td>\n",
       "      <td>NUNI</td>\n",
       "      <td>2025-01-13</td>\n",
       "    </tr>\n",
       "    <tr>\n",
       "      <th>4</th>\n",
       "      <td>고등어구이,제육볶음</td>\n",
       "      <td>HYUN</td>\n",
       "      <td>2025-01-21</td>\n",
       "    </tr>\n",
       "    <tr>\n",
       "      <th>...</th>\n",
       "      <td>...</td>\n",
       "      <td>...</td>\n",
       "      <td>...</td>\n",
       "    </tr>\n",
       "    <tr>\n",
       "      <th>140</th>\n",
       "      <td>한솥</td>\n",
       "      <td>NUNI</td>\n",
       "      <td>2025-01-14</td>\n",
       "    </tr>\n",
       "    <tr>\n",
       "      <th>141</th>\n",
       "      <td>한우 곰탕</td>\n",
       "      <td>LUCAS</td>\n",
       "      <td>2025-01-09</td>\n",
       "    </tr>\n",
       "    <tr>\n",
       "      <th>142</th>\n",
       "      <td>함바그 카레</td>\n",
       "      <td>JERRY</td>\n",
       "      <td>2025-01-20</td>\n",
       "    </tr>\n",
       "    <tr>\n",
       "      <th>143</th>\n",
       "      <td>햄 김치찌개</td>\n",
       "      <td>JACOB</td>\n",
       "      <td>2025-01-15</td>\n",
       "    </tr>\n",
       "    <tr>\n",
       "      <th>144</th>\n",
       "      <td>햄 김치찌개</td>\n",
       "      <td>LUCAS</td>\n",
       "      <td>2025-01-22</td>\n",
       "    </tr>\n",
       "  </tbody>\n",
       "</table>\n",
       "<p>145 rows × 3 columns</p>\n",
       "</div>"
      ],
      "text/plain": [
       "       menu_name   name          dt\n",
       "0       FORRK 카레   HYUN  2025-01-20\n",
       "1            간짜장    CHO  2025-01-16\n",
       "2        간짜장 곱빼기   HYUN  2025-01-16\n",
       "3    고기김치찌개,라면세트   NUNI  2025-01-13\n",
       "4     고등어구이,제육볶음   HYUN  2025-01-21\n",
       "..           ...    ...         ...\n",
       "140           한솥   NUNI  2025-01-14\n",
       "141        한우 곰탕  LUCAS  2025-01-09\n",
       "142       함바그 카레  JERRY  2025-01-20\n",
       "143       햄 김치찌개  JACOB  2025-01-15\n",
       "144       햄 김치찌개  LUCAS  2025-01-22\n",
       "\n",
       "[145 rows x 3 columns]"
      ]
     },
     "execution_count": 92,
     "metadata": {},
     "output_type": "execute_result"
    }
   ],
   "source": [
    "d1"
   ]
  },
  {
   "cell_type": "code",
   "execution_count": null,
   "id": "40fc7992-a365-4be7-b9ae-1474d3a1b57d",
   "metadata": {},
   "outputs": [],
   "source": []
  }
 ],
 "metadata": {
  "kernelspec": {
   "display_name": "Python 3 (ipykernel)",
   "language": "python",
   "name": "python3"
  },
  "language_info": {
   "codemirror_mode": {
    "name": "ipython",
    "version": 3
   },
   "file_extension": ".py",
   "mimetype": "text/x-python",
   "name": "python",
   "nbconvert_exporter": "python",
   "pygments_lexer": "ipython3",
   "version": "3.10.12"
  }
 },
 "nbformat": 4,
 "nbformat_minor": 5
}
